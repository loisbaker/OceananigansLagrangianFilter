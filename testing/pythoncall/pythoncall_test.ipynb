{
 "cells": [
  {
   "cell_type": "code",
   "execution_count": 1,
   "id": "8d12183f",
   "metadata": {},
   "outputs": [
    {
     "name": "stderr",
     "output_type": "stream",
     "text": [
      "\u001b[32m\u001b[1mPrecompiling\u001b[22m\u001b[39m packages...\n",
      "   6979.0 ms\u001b[32m  ✓ \u001b[39mOceananigansLagrangianFilter\n",
      "  1 dependency successfully precompiled in 9 seconds. 504 already precompiled.\n"
     ]
    }
   ],
   "source": [
    "using PythonCall\n",
    "using JLD2\n",
    "using JLD2: Group\n",
    "using OceananigansLagrangianFilter\n",
    "using Oceananigans.Fields: Center\n",
    "using Oceananigans.BoundaryConditions: PeriodicBoundaryCondition\n",
    "using ProgressBars"
   ]
  },
  {
   "cell_type": "code",
   "execution_count": 1,
   "id": "9e0a44c3",
   "metadata": {},
   "outputs": [
    {
     "data": {
      "text/plain": [
       "PyLinearNDInterpolator (generic function with 1 method)"
      ]
     },
     "execution_count": 1,
     "metadata": {},
     "output_type": "execute_result"
    }
   ],
   "source": [
    "using PythonCall\n",
    "PyLinearNDInterpolator() = pyimport(\"scipy.interpolate\").LinearNDInterpolator()\n"
   ]
  },
  {
   "cell_type": "code",
   "execution_count": 2,
   "id": "9f6bd942",
   "metadata": {},
   "outputs": [
    {
     "ename": "LoadError",
     "evalue": "MethodError: no method matching PyLinearNDInterpolator(::LinearAlgebra.Adjoint{Int64, Matrix{Int64}}, ::Vector{Int64})",
     "output_type": "error",
     "traceback": [
      "MethodError: no method matching PyLinearNDInterpolator(::LinearAlgebra.Adjoint{Int64, Matrix{Int64}}, ::Vector{Int64})",
      "",
      "Stacktrace:",
      " [1] top-level scope",
      "\u001b[90m   @\u001b[39m \u001b[90m\u001b[4mIn[2]:3\u001b[24m\u001b[39m"
     ]
    }
   ],
   "source": [
    "points = Array([[0,0] [0,1] [0,2] [1,0] [1,1] [1,2] [2,0] [2,1] [2,2]])\n",
    "values = Array([1,1,1,2,2,2,3,3,3])\n",
    "interpolator = PyLinearNDInterpolator(points', values)\n",
    "new_points = Array([ [0.5,0.5] [1.5,2] [2,1.5] ])\n",
    "x_new = Array(range(0, stop=2, length=50)) # Array of x coordinates\n",
    "y_new = Array(range(0, stop=2, length=60))# Array of y coordinates\n",
    "x_mesh = reshape(x_new,length(x_new),1)\n",
    "y_mesh = reshape(y_new,1,length(y_new))\n",
    "coord_mesh = [x_mesh, y_mesh]\n",
    "z_interpolated = interpolator(coord_mesh...)\n",
    "# interpolator(new_points')\n",
    "z_interpolated.shape"
   ]
  },
  {
   "cell_type": "code",
   "execution_count": 4,
   "id": "e2a991e5",
   "metadata": {},
   "outputs": [
    {
     "data": {
      "text/plain": [
       "50×60 Matrix{Float64}:\n",
       " 1.0      1.0      1.0      1.0      …  1.0      1.0      1.0      1.0\n",
       " 1.04082  1.04082  1.04082  1.04082     1.04082  1.04082  1.04082  1.04082\n",
       " 1.08163  1.08163  1.08163  1.08163     1.08163  1.08163  1.08163  1.08163\n",
       " 1.12245  1.12245  1.12245  1.12245     1.12245  1.12245  1.12245  1.12245\n",
       " 1.16327  1.16327  1.16327  1.16327     1.16327  1.16327  1.16327  1.16327\n",
       " 1.20408  1.20408  1.20408  1.20408  …  1.20408  1.20408  1.20408  1.20408\n",
       " 1.2449   1.2449   1.2449   1.2449      1.2449   1.2449   1.2449   1.2449\n",
       " 1.28571  1.28571  1.28571  1.28571     1.28571  1.28571  1.28571  1.28571\n",
       " 1.32653  1.32653  1.32653  1.32653     1.32653  1.32653  1.32653  1.32653\n",
       " 1.36735  1.36735  1.36735  1.36735     1.36735  1.36735  1.36735  1.36735\n",
       " 1.40816  1.40816  1.40816  1.40816  …  1.40816  1.40816  1.40816  1.40816\n",
       " 1.44898  1.44898  1.44898  1.44898     1.44898  1.44898  1.44898  1.44898\n",
       " 1.4898   1.4898   1.4898   1.4898      1.4898   1.4898   1.4898   1.4898\n",
       " ⋮                                   ⋱                             \n",
       " 2.55102  2.55102  2.55102  2.55102     2.55102  2.55102  2.55102  2.55102\n",
       " 2.59184  2.59184  2.59184  2.59184     2.59184  2.59184  2.59184  2.59184\n",
       " 2.63265  2.63265  2.63265  2.63265  …  2.63265  2.63265  2.63265  2.63265\n",
       " 2.67347  2.67347  2.67347  2.67347     2.67347  2.67347  2.67347  2.67347\n",
       " 2.71429  2.71429  2.71429  2.71429     2.71429  2.71429  2.71429  2.71429\n",
       " 2.7551   2.7551   2.7551   2.7551      2.7551   2.7551   2.7551   2.7551\n",
       " 2.79592  2.79592  2.79592  2.79592     2.79592  2.79592  2.79592  2.79592\n",
       " 2.83673  2.83673  2.83673  2.83673  …  2.83673  2.83673  2.83673  2.83673\n",
       " 2.87755  2.87755  2.87755  2.87755     2.87755  2.87755  2.87755  2.87755\n",
       " 2.91837  2.91837  2.91837  2.91837     2.91837  2.91837  2.91837  2.91837\n",
       " 2.95918  2.95918  2.95918  2.95918     2.95918  2.95918  2.95918  2.95918\n",
       " 3.0      3.0      3.0      3.0         3.0      3.0      3.0      3.0"
      ]
     },
     "execution_count": 4,
     "metadata": {},
     "output_type": "execute_result"
    }
   ],
   "source": [
    "pyconvert(Array, z_interpolated)"
   ]
  },
  {
   "cell_type": "code",
   "execution_count": 65,
   "id": "6fc687aa",
   "metadata": {},
   "outputs": [
    {
     "data": {
      "text/plain": [
       "0"
      ]
     },
     "execution_count": 65,
     "metadata": {},
     "output_type": "execute_result"
    }
   ],
   "source": [
    "combined_output_filename = \"../turbulent_SW/combined_LF_freqc_1_with_tracer.jld2\"\n",
    "original_var_names = [\"T\",\"ω\"]\n",
    "velocity_names = [\"u\",\"v\"]\n",
    "npad = 0"
   ]
  },
  {
   "cell_type": "code",
   "execution_count": 69,
   "id": "95476a16",
   "metadata": {},
   "outputs": [
    {
     "name": "stderr",
     "output_type": "stream",
     "text": [
      "0.0%┣                                               ┫ 0/10 [00:00<00:00, -0s/it]\n",
      "10.0%┣████▏                                     ┫ 1/10 [00:02<Inf:Inf, InfGs/it]\n",
      "20.0%┣█████████▍                                     ┫ 2/10 [00:03<00:23, 3s/it]\n",
      "30.0%┣██████████████                                 ┫ 3/10 [00:04<00:13, 2s/it]\n",
      "40.0%┣██████████████████▉                            ┫ 4/10 [00:04<00:09, 1s/it]\n",
      "50.0%┣███████████████████████▌                       ┫ 5/10 [00:05<00:06, 1s/it]\n",
      "60.0%┣████████████████████████████▏                  ┫ 6/10 [00:06<00:05, 1s/it]\n",
      "70.0%┣█████████████████████████████████              ┫ 7/10 [00:07<00:03, 1s/it]\n",
      "80.0%┣█████████████████████████████████████▋         ┫ 8/10 [00:08<00:02, 1s/it]\n",
      "90.0%┣██████████████████████████████████████████▎    ┫ 9/10 [00:08<00:01, 1s/it]\n",
      "100.0%┣█████████████████████████████████████████████┫ 10/10 [00:09<00:00, 1s/it]\n",
      "100.0%┣█████████████████████████████████████████████┫ 10/10 [00:09<00:00, 1s/it]\n"
     ]
    }
   ],
   "source": [
    "\n",
    "jldopen(combined_output_filename,\"r+\") do file\n",
    "    iterations = parse.(Int, keys(file[\"timeseries/t\"]))\n",
    "    grid = file[\"serialized/grid\"]\n",
    "    coord_dict = _create_coords(grid)\n",
    "    \n",
    "    # Work out the periodic directions\n",
    "    test_var = original_var_names[1]\n",
    "    BCs = file[\"timeseries/$test_var/serialized/boundary_conditions\"]\n",
    "    periodic_dimensions = []\n",
    "    if BCs.west == PeriodicBoundaryCondition()\n",
    "        push!(periodic_dimensions,\"x\")\n",
    "    end\n",
    "    if BCs.south == PeriodicBoundaryCondition()\n",
    "        push!(periodic_dimensions,\"y\")\n",
    "    end\n",
    "    if BCs.top == PeriodicBoundaryCondition()\n",
    "        push!(periodic_dimensions,\"z\")\n",
    "    end\n",
    "    \n",
    "    # First add the necessary serialized entry for each new variable\n",
    "    for var in original_var_names \n",
    "        new_path = \"timeseries/$var\"*\"_filtered_regrid/serialized\"\n",
    "        if haskey(file, new_path)\n",
    "            Base.delete!(file, new_path) #incase we already tried to write this\n",
    "        end\n",
    "        g = Group(file, new_path)\n",
    "        for property in keys(file[\"timeseries/$var/serialized\"])\n",
    "            g[property] = file[\"timeseries/$var/serialized/$property\"]\n",
    "        end\n",
    "    end\n",
    "    \n",
    "    for iter in ProgressBar(iterations[1:10])\n",
    "        \n",
    "        Xi_list = []\n",
    "        regular_coord_mesh = []\n",
    "        n_true_dims = 0\n",
    "        for dim in (\"x\",\"y\",\"z\")\n",
    "            if dim in keys(coord_dict) # This limits to only the non-singleton dimensions\n",
    "                n_true_dims +=1\n",
    "                push!(regular_coord_mesh, coord_dict[\"$(dim)_mesh\"])\n",
    "                if (dim == \"x\") && (\"u\" in velocity_names)\n",
    "                    Xi_u = coord_dict[\"x_mesh\"] .+ file[\"timeseries/xi_u/$iter\"]\n",
    "                    # Lose the halo regions (they don't help with fixed boundaries as they're zero, or with periodic as its repeated information)\n",
    "                    Xi_u = remove_halos(Xi_u,grid)\n",
    "                    # move xi points outside of domain into domain\n",
    "                    if \"x\" in periodic_dimensions                           \n",
    "                        Xi_u .-= floor.((Xi_u .- coord_dict[\"x\"][grid.Hx+1])./grid.Lx) .* grid.Lx\n",
    "                    end\n",
    "                    push!(Xi_list,vec(Xi_u))\n",
    "\n",
    "\n",
    "                elseif (dim == \"x\") && !(\"u\" in velocity_names)\n",
    "                    Xi_u = coord_dict[\"x_mesh\"]\n",
    "                    # Lose the halo regions \n",
    "                    Xi_u = remove_halos(Xi_u,grid)\n",
    "                    push!(Xi_list,vec(Xi_u))\n",
    "\n",
    "                elseif (dim == \"y\") && (\"v\" in velocity_names)\n",
    "                    Xi_v =  coord_dict[\"y_mesh\"] .+ file[\"timeseries/xi_v/$iter\"]\n",
    "                    # Lose the halo regions \n",
    "                    Xi_v = remove_halos(Xi_v,grid)\n",
    "                    # move xi points outside of domain + halo regions into domain\n",
    "                    if \"y\" in periodic_dimensions\n",
    "                        Xi_v .-= floor.((Xi_v .- coord_dict[\"y\"][grid.Hy+1])./grid.Ly) .* grid.Ly\n",
    "                    end\n",
    "                    push!(Xi_list,vec(Xi_v))\n",
    "\n",
    "                elseif (dim == \"y\") && !(\"v\" in velocity_names)\n",
    "                    Xi_v = coord_dict[\"y_mesh\"]\n",
    "                    # Lose the halo regions \n",
    "                    Xi_v = remove_halos(Xi_v,grid)\n",
    "                    push!(Xi_list,vec(Xi_v))\n",
    "\n",
    "                elseif (dim == \"z\") && (\"w\" in velocity_names)\n",
    "                    Xi_w = coord_dict[\"z_mesh\"] .+ file[\"timeseries/xi_w/$iter\"]\n",
    "                    # Lose the halo regions \n",
    "                    Xi_w = remove_halos(Xi_w,grid)\n",
    "                    # move xi points outside of domain + halo regions into domain\n",
    "                    if \"z\" in periodic_dimensions\n",
    "                        Xi_w .-= floor.((Xi_w .- coord_dict[\"z\"][grid.Hz+1])./grid.Lz) .* grid.Lz\n",
    "                    end\n",
    "                    push!(Xi_list,vec(Xi_w))\n",
    "\n",
    "                elseif (dim == \"z\") && !(\"w\" in velocity_names)\n",
    "                    Xi_w = coord_dict[\"z_mesh\"] .+ zeros(coord_dict[\"original_size\"])\n",
    "                    # Lose the halo regions \n",
    "                    Xi_w = remove_halos(Xi_w,grid)\n",
    "                    push!(Xi_list,vec(Xi_w))\n",
    "\n",
    "                else\n",
    "                    error(\"Something's wrong\")\n",
    "                end\n",
    "            end\n",
    "        \n",
    "        end\n",
    "\n",
    "        # Now we do some padding on the periodic dimensions, introducing new elements to the list near the periodic boundaries\n",
    "        # First construct a matrix that contains the coordinates and the fields to interpolate\n",
    "        for var in original_var_names\n",
    "            var_data = file[\"timeseries/$var\"*\"_filtered/$iter\"]\n",
    "            # Lose the halo regions \n",
    "            var_data = remove_halos(var_data,grid)\n",
    "\n",
    "            push!(Xi_list, vec(var_data))\n",
    "        end\n",
    "\n",
    "        data_tuple = Tuple(Xi_list)\n",
    "        data_array = hcat(data_tuple...) # This is a matrix where the rows are the data points and the columns are the coordinates then the variables\n",
    "\n",
    "        # Then we take the array and repeat rows as necessary to add extra padding data\n",
    "        \n",
    "        column_number = 1\n",
    "        n_columns = size(data_array,2)\n",
    "\n",
    "        for dim in periodic_dimensions\n",
    "            if dim == \"x\"\n",
    "                max_x = coord_dict[\"x\"][end-grid.Hx]\n",
    "                min_x = coord_dict[\"x\"][grid.Hx+1] \n",
    "                xpad = npad*grid.Δxᶜᵃᵃ\n",
    "                Xi_x_vec = data_array[:,column_number] \n",
    "                mask_max_x = (Xi_x_vec .> max_x - xpad)\n",
    "                mask_min_x = (Xi_x_vec .< min_x + xpad)\n",
    "                Xi_x_to_repeat = Xi_x_vec[mask_max_x .| mask_min_x]\n",
    "                # Remove or add Lx\n",
    "                Xi_x_to_repeat[(Xi_x_to_repeat .> max_x - xpad)] .-= grid.Lx\n",
    "                Xi_x_to_repeat[(Xi_x_to_repeat .< min_x + xpad)] .+= grid.Lx\n",
    "\n",
    "                extra_padding = fill(NaN, (length(Xi_x_to_repeat), n_columns))\n",
    "                extra_padding[:,column_number] = Xi_x_to_repeat\n",
    "                # And fill in the rest of the columns with straightforward repeateded data\n",
    "                for i in 1:n_columns\n",
    "                    if i != column_number # Don't overwrite the x coordinate\n",
    "                        extra_padding[:,i] = data_array[mask_max_x .| mask_min_x,i]\n",
    "                    end\n",
    "                end\n",
    "                # Now join it on to the data array\n",
    "                data_array = vcat(data_array, extra_padding)\n",
    "\n",
    "                # Move along the rows to the next coordinate\n",
    "                column_number += 1\n",
    "\n",
    "            elseif dim == \"y\"\n",
    "                max_y = coord_dict[\"y\"][end-grid.Hy]\n",
    "                min_y = coord_dict[\"y\"][grid.Hy+1]\n",
    "                ypad = npad*grid.Δyᵃᶜᵃ\n",
    "                Xi_y_vec = data_array[:,column_number]\n",
    "                mask_max_y = (Xi_y_vec .> max_y - ypad)\n",
    "                mask_min_y = (Xi_y_vec .< min_y + ypad)\n",
    "                Xi_y_to_repeat = Xi_y_vec[mask_max_y .| mask_min_y] \n",
    "\n",
    "                # Remove or add Ly\n",
    "                Xi_y_to_repeat[(Xi_y_to_repeat .> max_y - ypad)] .-= grid.Ly\n",
    "                Xi_y_to_repeat[(Xi_y_to_repeat .< min_y + ypad)] .+= grid.Ly\n",
    "\n",
    "                extra_padding = fill(NaN, (length(Xi_y_to_repeat), n_columns))\n",
    "                extra_padding[:,column_number] = Xi_y_to_repeat\n",
    "                # And fill in the rest of the columns with straightforward repeateded data\n",
    "                for i in 1:n_columns\n",
    "                    if i != column_number # Don't overwrite the y coordinate\n",
    "                        extra_padding[:,i] = data_array[mask_max_y .| mask_min_y,i]\n",
    "                    end\n",
    "                end\n",
    "                # Now join it on to the data array\n",
    "                data_array = vcat(data_array, extra_padding)\n",
    "                # Move along to the next coordinate\n",
    "                column_number += 1\n",
    "            elseif dim == \"z\"\n",
    "                max_z = coord_dict[\"z\"][end-grid.Hz]\n",
    "                min_z = coord_dict[\"z\"][grid.Hz+1]\n",
    "                zpad = npad*grid.Δz.cᵃᵃᶜ\n",
    "                Xi_z_vec = data_array[:,column_number]\n",
    "                mask_max_z = ((Xi_z_vec .> max_z - zpad))\n",
    "                mask_min_z = ((Xi_z_vec .< min_z + zpad))\n",
    "                Xi_z_to_repeat = Xi_z_vec[mask_max_z .| mask_min_z] \n",
    "\n",
    "                # Remove or add Lz\n",
    "                Xi_z_to_repeat[(Xi_z_to_repeat .> max_z - zpad)] .-= grid.Lz\n",
    "                Xi_z_to_repeat[(Xi_z_to_repeat .< min_z + zpad)] .+= grid.Lz\n",
    "\n",
    "                extra_padding = fill(NaN, (length(Xi_z_to_repeat), n_columns))\n",
    "                extra_padding[:,column_number] = Xi_z_to_repeat\n",
    "                # And fill in the rest of the columns with straightforward repeateded data\n",
    "                for i in 1:n_columns\n",
    "                    if i != column_number # Don't overwrite the z coordinate\n",
    "                        extra_padding[:,i] = data_array[mask_max_z .| mask_min_z,i]\n",
    "                    end\n",
    "                end\n",
    "                # Now join it on to the data array\n",
    "                data_array = vcat(data_array, extra_padding)\n",
    "\n",
    "            end\n",
    "        end\n",
    "        \n",
    "            \n",
    "        coords = data_array[:,1:n_true_dims] # The first columns are the coordinates\n",
    "        var_data = data_array[:,(n_true_dims+1):end] # The rest is the data\n",
    "        \n",
    "        for (ivar,var) in enumerate(original_var_names)\n",
    "            \n",
    "            values = var_data[:,ivar]\n",
    "            interpolator = PyLinearNDInterpolator(coords, values)\n",
    "\n",
    "            interp_data = interpolator(regular_coord_mesh...)\n",
    "\n",
    "            new_var_loc = \"timeseries/$var\"*\"_filtered_regrid/$iter\"\n",
    "            if haskey(file, new_var_loc)\n",
    "                Base.delete!(file, new_var_loc) #incase we already tried to write this variable\n",
    "            end\n",
    "            file[new_var_loc] = interp_data\n",
    "            \n",
    "        end\n",
    "    end\n",
    "end\n"
   ]
  },
  {
   "cell_type": "code",
   "execution_count": 60,
   "id": "a9ad8b54",
   "metadata": {},
   "outputs": [
    {
     "data": {
      "text/plain": [
       "_create_coords (generic function with 1 method)"
      ]
     },
     "execution_count": 60,
     "metadata": {},
     "output_type": "execute_result"
    }
   ],
   "source": [
    "function remove_halos(data,grid)\n",
    "    Hx = grid.Hx\n",
    "    Hy = grid.Hy\n",
    "    Hz = grid.Hz\n",
    "    data = data[\n",
    "                Hx != 0 ? (Hx+1:end-Hx) : (:),\n",
    "                Hy != 0 ? (Hy+1:end-Hy) : (:),\n",
    "                Hz != 0 ? (Hz+1:end-Hz) : (:)]\n",
    "    return data\n",
    "end\n",
    "\n",
    "function _create_coords(grid)\n",
    "    full_grid_size = (grid.Nx + 2*grid.Hx, grid.Ny+ 2*grid.Hy, grid.Nz+ + 2*grid.Hz)\n",
    "    x = xnodes(grid, Center(), with_halos = true)\n",
    "    y = ynodes(grid, Center(), with_halos = true)\n",
    "    z = znodes(grid, Center(), with_halos = true)\n",
    "\n",
    "\n",
    "    all_coords = (x=x,y=y,z=z)\n",
    "    coord_dict = Dict()\n",
    "    coord_dict[\"full_grid_size\"] = full_grid_size\n",
    "    for (coord_name, coord) in pairs(all_coords)\n",
    "        if coord !== nothing\n",
    "            coord_dict[String(coord_name)] = parent(coord)\n",
    "            if coord_name == :x\n",
    "                coord_dict[\"x_mesh\"] = parent(coord) .+ zeros(full_grid_size)\n",
    "            elseif coord_name == :y\n",
    "                coord_dict[\"y_mesh\"] = parent(coord)' .+ zeros(full_grid_size)\n",
    "            elseif coord_name == :z\n",
    "                coord_dict[\"z_mesh\"] = reshape(parent(coord),1,1,length(parent(coord))) .+ zeros(full_grid_size)\n",
    "            end\n",
    "        end\n",
    "    end\n",
    "    return coord_dict\n",
    "end"
   ]
  },
  {
   "cell_type": "code",
   "execution_count": null,
   "id": "615ddd97",
   "metadata": {},
   "outputs": [
    {
     "data": {
      "text/plain": [
       "Dict{Any, Any} with 4 entries:\n",
       "  \"x_mesh\" => [-0.0613592 -0.0613592 … -0.0613592 -0.0613592; -0.0368155 -0.036…\n",
       "  \"x\"      => -0.06135923151542565:0.02454369260617026:6.344544538695012\n",
       "  \"y_mesh\" => [-0.0613592 -0.0368155 … 6.32 6.34454; -0.0613592 -0.0368155 … 6.…\n",
       "  \"y\"      => -0.06135923151542565:0.02454369260617026:6.344544538695012"
      ]
     },
     "execution_count": 44,
     "metadata": {},
     "output_type": "execute_result"
    }
   ],
   "source": [
    "file = jldopen(combined_output_filename,\"r+\")"
   ]
  },
  {
   "cell_type": "code",
   "execution_count": 37,
   "id": "2d8761de",
   "metadata": {},
   "outputs": [
    {
     "data": {
      "text/plain": [
       "262×262×1 Array{Float64, 3}:\n",
       "[:, :, 1] =\n",
       " -0.0613592  -0.0613592  -0.0613592  …  -0.0613592  -0.0613592  -0.0613592\n",
       " -0.0368155  -0.0368155  -0.0368155     -0.0368155  -0.0368155  -0.0368155\n",
       " -0.0122718  -0.0122718  -0.0122718     -0.0122718  -0.0122718  -0.0122718\n",
       "  0.0122718   0.0122718   0.0122718      0.0122718   0.0122718   0.0122718\n",
       "  0.0368155   0.0368155   0.0368155      0.0368155   0.0368155   0.0368155\n",
       "  0.0613592   0.0613592   0.0613592  …   0.0613592   0.0613592   0.0613592\n",
       "  0.0859029   0.0859029   0.0859029      0.0859029   0.0859029   0.0859029\n",
       "  0.110447    0.110447    0.110447       0.110447    0.110447    0.110447\n",
       "  0.13499     0.13499     0.13499        0.13499     0.13499     0.13499\n",
       "  0.159534    0.159534    0.159534       0.159534    0.159534    0.159534\n",
       "  0.184078    0.184078    0.184078   …   0.184078    0.184078    0.184078\n",
       "  0.208621    0.208621    0.208621       0.208621    0.208621    0.208621\n",
       "  0.233165    0.233165    0.233165       0.233165    0.233165    0.233165\n",
       "  ⋮                                  ⋱               ⋮          \n",
       "  6.07456     6.07456     6.07456    …   6.07456     6.07456     6.07456\n",
       "  6.09911     6.09911     6.09911        6.09911     6.09911     6.09911\n",
       "  6.12365     6.12365     6.12365        6.12365     6.12365     6.12365\n",
       "  6.14819     6.14819     6.14819        6.14819     6.14819     6.14819\n",
       "  6.17274     6.17274     6.17274        6.17274     6.17274     6.17274\n",
       "  6.19728     6.19728     6.19728    …   6.19728     6.19728     6.19728\n",
       "  6.22183     6.22183     6.22183        6.22183     6.22183     6.22183\n",
       "  6.24637     6.24637     6.24637        6.24637     6.24637     6.24637\n",
       "  6.27091     6.27091     6.27091        6.27091     6.27091     6.27091\n",
       "  6.29546     6.29546     6.29546        6.29546     6.29546     6.29546\n",
       "  6.32        6.32        6.32       …   6.32        6.32        6.32\n",
       "  6.34454     6.34454     6.34454        6.34454     6.34454     6.34454"
      ]
     },
     "execution_count": 37,
     "metadata": {},
     "output_type": "execute_result"
    }
   ],
   "source": [
    "x = parent(xnodes(grid, Center(), with_halos = true))\n",
    "full_grid_size = (grid.Nx + 2*grid.Hx, grid.Ny+ 2*grid.Hy, grid.Nz+ + 2*grid.Hz)\n",
    "x .+ zeros(full_grid_size)\n"
   ]
  },
  {
   "cell_type": "code",
   "execution_count": 25,
   "id": "2a8c3292",
   "metadata": {},
   "outputs": [
    {
     "data": {
      "text/plain": [
       "(x = -0.06135923151542565:0.02454369260617026:6.344544538695012 with indices -2:259, y = -0.06135923151542565:0.02454369260617026:6.344544538695012 with indices -2:259, z = nothing)"
      ]
     },
     "execution_count": 25,
     "metadata": {},
     "output_type": "execute_result"
    }
   ],
   "source": [
    "x = xnodes(grid, Center(), with_halos = true)\n",
    "y = ynodes(grid, Center(), with_halos = true)\n",
    "z = znodes(grid, Center(), with_halos = true)\n",
    "    \n",
    "    \n",
    "coords = (x=x,y=y,z=z)"
   ]
  },
  {
   "cell_type": "code",
   "execution_count": 27,
   "id": "d2278d8d",
   "metadata": {},
   "outputs": [
    {
     "name": "stdout",
     "output_type": "stream",
     "text": [
      "-0.06135923151542565\n",
      "-0.03681553890925539\n",
      "-0.06135923151542565\n",
      "-0.03681553890925539\n"
     ]
    },
    {
     "ename": "LoadError",
     "evalue": "MethodError: no method matching iterate(::Nothing)\n\n\u001b[0mClosest candidates are:\n\u001b[0m  iterate(\u001b[91m::LibGit2.GitRebase\u001b[39m)\n\u001b[0m\u001b[90m   @\u001b[39m \u001b[35mLibGit2\u001b[39m \u001b[90m~/.julia/juliaup/julia-1.10.9+0.x64.linux.gnu/share/julia/stdlib/v1.10/LibGit2/src/\u001b[39m\u001b[90m\u001b[4mrebase.jl:48\u001b[24m\u001b[39m\n\u001b[0m  iterate(\u001b[91m::LibGit2.GitRebase\u001b[39m, \u001b[91m::Any\u001b[39m)\n\u001b[0m\u001b[90m   @\u001b[39m \u001b[35mLibGit2\u001b[39m \u001b[90m~/.julia/juliaup/julia-1.10.9+0.x64.linux.gnu/share/julia/stdlib/v1.10/LibGit2/src/\u001b[39m\u001b[90m\u001b[4mrebase.jl:48\u001b[24m\u001b[39m\n\u001b[0m  iterate(\u001b[91m::IRTools.Inner.IR\u001b[39m)\n\u001b[0m\u001b[90m   @\u001b[39m \u001b[36mIRTools\u001b[39m \u001b[90m~/.julia/packages/IRTools/v0mn8/src/ir/\u001b[39m\u001b[90m\u001b[4mir.jl:625\u001b[24m\u001b[39m\n\u001b[0m  ...\n",
     "output_type": "error",
     "traceback": [
      "MethodError: no method matching iterate(::Nothing)\n\n\u001b[0mClosest candidates are:\n\u001b[0m  iterate(\u001b[91m::LibGit2.GitRebase\u001b[39m)\n\u001b[0m\u001b[90m   @\u001b[39m \u001b[35mLibGit2\u001b[39m \u001b[90m~/.julia/juliaup/julia-1.10.9+0.x64.linux.gnu/share/julia/stdlib/v1.10/LibGit2/src/\u001b[39m\u001b[90m\u001b[4mrebase.jl:48\u001b[24m\u001b[39m\n\u001b[0m  iterate(\u001b[91m::LibGit2.GitRebase\u001b[39m, \u001b[91m::Any\u001b[39m)\n\u001b[0m\u001b[90m   @\u001b[39m \u001b[35mLibGit2\u001b[39m \u001b[90m~/.julia/juliaup/julia-1.10.9+0.x64.linux.gnu/share/julia/stdlib/v1.10/LibGit2/src/\u001b[39m\u001b[90m\u001b[4mrebase.jl:48\u001b[24m\u001b[39m\n\u001b[0m  iterate(\u001b[91m::IRTools.Inner.IR\u001b[39m)\n\u001b[0m\u001b[90m   @\u001b[39m \u001b[36mIRTools\u001b[39m \u001b[90m~/.julia/packages/IRTools/v0mn8/src/ir/\u001b[39m\u001b[90m\u001b[4mir.jl:625\u001b[24m\u001b[39m\n\u001b[0m  ...\n",
      "",
      "Stacktrace:",
      " [1] \u001b[0m\u001b[1mindexed_iterate\u001b[22m\u001b[0m\u001b[1m(\u001b[22m\u001b[90mI\u001b[39m::\u001b[0mNothing, \u001b[90mi\u001b[39m::\u001b[0mInt64\u001b[0m\u001b[1m)\u001b[22m",
      "\u001b[90m   @\u001b[39m \u001b[90mBase\u001b[39m \u001b[90m./\u001b[39m\u001b[90m\u001b[4mtuple.jl:95\u001b[24m\u001b[39m",
      " [2] top-level scope",
      "\u001b[90m   @\u001b[39m \u001b[90m./\u001b[39m\u001b[90m\u001b[4mIn[27]:1\u001b[24m\u001b[39m"
     ]
    }
   ],
   "source": [
    "for (key,value) in coords\n",
    "    println(key)\n",
    "    println(value)\n",
    "end"
   ]
  },
  {
   "cell_type": "code",
   "execution_count": null,
   "id": "bf14540d",
   "metadata": {},
   "outputs": [],
   "source": []
  }
 ],
 "metadata": {
  "kernelspec": {
   "display_name": "OceananigansLagrangianFilter 1.10.9",
   "language": "julia",
   "name": "oceananiganslagrangianfilter-1.10"
  },
  "language_info": {
   "file_extension": ".jl",
   "mimetype": "application/julia",
   "name": "julia",
   "version": "1.10.9"
  }
 },
 "nbformat": 4,
 "nbformat_minor": 5
}
