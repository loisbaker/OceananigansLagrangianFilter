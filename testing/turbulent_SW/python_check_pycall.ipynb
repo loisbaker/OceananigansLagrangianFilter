{
 "cells": [
  {
   "cell_type": "code",
   "execution_count": 1,
   "id": "837054e0",
   "metadata": {},
   "outputs": [],
   "source": [
    "import xarray as xr\n",
    "import numpy as np\n",
    "import matplotlib.pyplot as plt"
   ]
  },
  {
   "cell_type": "code",
   "execution_count": 58,
   "id": "b8c32ced",
   "metadata": {},
   "outputs": [],
   "source": [
    "ds = xr.open_dataset(\"combined_output_freq_c_1_tracer_WENO_pycall_0_pad.nc\", decode_times=False)\n",
    "ds5 = xr.open_dataset(\"combined_output_freq_c_1_tracer_WENO_pycall_5_pad.nc\", decode_times=False)"
   ]
  },
  {
   "cell_type": "code",
   "execution_count": null,
   "id": "f162c034",
   "metadata": {},
   "outputs": [],
   "source": []
  }
 ],
 "metadata": {
  "kernelspec": {
   "display_name": "LLC4320",
   "language": "python",
   "name": "python3"
  },
  "language_info": {
   "codemirror_mode": {
    "name": "ipython",
    "version": 3
   },
   "file_extension": ".py",
   "mimetype": "text/x-python",
   "name": "python",
   "nbconvert_exporter": "python",
   "pygments_lexer": "ipython3",
   "version": "3.12.2"
  }
 },
 "nbformat": 4,
 "nbformat_minor": 5
}
