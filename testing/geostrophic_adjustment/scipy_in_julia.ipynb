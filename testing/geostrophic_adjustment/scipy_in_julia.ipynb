{
 "cells": [
  {
   "cell_type": "code",
   "execution_count": 1,
   "id": "1b482da3",
   "metadata": {},
   "outputs": [],
   "source": [
    "using OceananigansLagrangianFilter\n",
    "using Printf\n",
    "using JLD2\n",
    "using Oceananigans.Units\n",
    "using Oceananigans.Units: Time\n",
    "using CairoMakie\n",
    "using CUDA\n",
    "using Oceananigans.TimeSteppers: reset!\n",
    "using PyCall"
   ]
  },
  {
   "cell_type": "code",
   "execution_count": 2,
   "id": "4116771c",
   "metadata": {},
   "outputs": [
    {
     "data": {
      "text/plain": [
       "\"/home/lbaker/Documents/Projects/OceananigansLagrangianFilter/testing/geostrophic_adjustment/combined_LF.jld2\""
      ]
     },
     "execution_count": 2,
     "metadata": {},
     "output_type": "execute_result"
    }
   ],
   "source": [
    "# User defined options\n",
    "\n",
    "original_data_filename = joinpath(@__DIR__, \"periodic_adjustment.jld2\")\n",
    "T_start = 0\n",
    "T_end = 5days\n",
    "\n",
    "# Define variables to filter\n",
    "original_var_names = (\"wc\",\"ζc\", \"b\")\n",
    "\n",
    "# Define velocities to use for filtering\n",
    "velocity_names = (\"u\",\"w\")\n",
    "\n",
    "# Name output files\n",
    "forward_output_filename = joinpath(@__DIR__, \"forward_LF.jld2\")\n",
    "backward_output_filename = joinpath(@__DIR__, \"backward_LF.jld2\")\n",
    "combined_output_filename = joinpath(@__DIR__, \"combined_LF.jld2\")\n",
    "\n"
   ]
  },
  {
   "cell_type": "code",
   "execution_count": 3,
   "id": "cf5ace2b",
   "metadata": {},
   "outputs": [
    {
     "ename": "LoadError",
     "evalue": "PyError (PyImport_ImportModule\n\nThe Python package scipy could not be imported by pyimport. Usually this means\nthat you did not install scipy in the Python version being used by PyCall.\n\nPyCall is currently configured to use the Python version at:\n\n/home/lbaker/miniconda3/bin/python3\n\nand you should use whatever mechanism you usually use (apt-get, pip, conda,\netcetera) to install the Python package containing the scipy module.\n\nOne alternative is to re-configure PyCall to use a different Python\nversion on your system: set ENV[\"PYTHON\"] to the path/name of the python\nexecutable you want to use, run Pkg.build(\"PyCall\"), and re-launch Julia.\n\nAnother alternative is to configure PyCall to use a Julia-specific Python\ndistribution via the Conda.jl package (which installs a private Anaconda\nPython distribution), which has the advantage that packages can be installed\nand kept up-to-date via Julia.  As explained in the PyCall documentation,\nset ENV[\"PYTHON\"]=\"\", run Pkg.build(\"PyCall\"), and re-launch Julia. Then,\nTo install the scipy module, you can use `pyimport_conda(\"scipy\", PKG)`,\nwhere PKG is the Anaconda package that contains the module scipy,\nor alternatively you can use the Conda package directly (via\n`using Conda` followed by `Conda.add` etcetera).\n\n) <class 'ModuleNotFoundError'>\nModuleNotFoundError(\"No module named 'scipy'\")\n",
     "output_type": "error",
     "traceback": [
      "PyError (PyImport_ImportModule\n\nThe Python package scipy could not be imported by pyimport. Usually this means\nthat you did not install scipy in the Python version being used by PyCall.\n\nPyCall is currently configured to use the Python version at:\n\n/home/lbaker/miniconda3/bin/python3\n\nand you should use whatever mechanism you usually use (apt-get, pip, conda,\netcetera) to install the Python package containing the scipy module.\n\nOne alternative is to re-configure PyCall to use a different Python\nversion on your system: set ENV[\"PYTHON\"] to the path/name of the python\nexecutable you want to use, run Pkg.build(\"PyCall\"), and re-launch Julia.\n\nAnother alternative is to configure PyCall to use a Julia-specific Python\ndistribution via the Conda.jl package (which installs a private Anaconda\nPython distribution), which has the advantage that packages can be installed\nand kept up-to-date via Julia.  As explained in the PyCall documentation,\nset ENV[\"PYTHON\"]=\"\", run Pkg.build(\"PyCall\"), and re-launch Julia. Then,\nTo install the scipy module, you can use `pyimport_conda(\"scipy\", PKG)`,\nwhere PKG is the Anaconda package that contains the module scipy,\nor alternatively you can use the Conda package directly (via\n`using Conda` followed by `Conda.add` etcetera).\n\n) <class 'ModuleNotFoundError'>\nModuleNotFoundError(\"No module named 'scipy'\")\n",
      "",
      "Stacktrace:",
      " [1] \u001b[0m\u001b[1mpyimport\u001b[22m\u001b[0m\u001b[1m(\u001b[22m\u001b[90mname\u001b[39m::\u001b[0mString\u001b[0m\u001b[1m)\u001b[22m",
      "\u001b[90m   @\u001b[39m \u001b[35mPyCall\u001b[39m \u001b[90m~/.julia/packages/PyCall/1gn3u/src/\u001b[39m\u001b[90m\u001b[4mPyCall.jl:558\u001b[24m\u001b[39m",
      " [2] top-level scope",
      "\u001b[90m   @\u001b[39m \u001b[90m\u001b[4mIn[3]:1\u001b[24m\u001b[39m"
     ]
    }
   ],
   "source": [
    "scpy = pyimport(\"scipy\")\n",
    "scpy.interpolate.LinearNDInterpolator"
   ]
  },
  {
   "cell_type": "code",
   "execution_count": null,
   "id": "f4016478",
   "metadata": {},
   "outputs": [],
   "source": []
  }
 ],
 "metadata": {
  "kernelspec": {
   "display_name": "OceananigansLagrangianFilter 1.10.9",
   "language": "julia",
   "name": "oceananiganslagrangianfilter-1.10"
  },
  "language_info": {
   "file_extension": ".jl",
   "mimetype": "application/julia",
   "name": "julia",
   "version": "1.10.9"
  }
 },
 "nbformat": 4,
 "nbformat_minor": 5
}
