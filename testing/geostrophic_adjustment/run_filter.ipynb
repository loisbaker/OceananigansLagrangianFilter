{
 "cells": [
  {
   "cell_type": "code",
   "execution_count": 52,
   "id": "fd5321ef",
   "metadata": {},
   "outputs": [],
   "source": [
    "using OceananigansLagrangianFilter\n",
    "using Printf\n",
    "using JLD2\n",
    "using Oceananigans.Units\n",
    "using Oceananigans.Units: Time\n",
    "using CairoMakie\n",
    "using CUDA\n",
    "using Oceananigans.TimeSteppers: reset!\n",
    "\n"
   ]
  },
  {
   "cell_type": "code",
   "execution_count": 53,
   "id": "d5ad4bf8",
   "metadata": {},
   "outputs": [
    {
     "name": "stdout",
     "output_type": "stream",
     "text": [
      "Current direction is forward\n",
      "No need to reverse order of data\n"
     ]
    },
    {
     "data": {
      "text/plain": [
       "432000.0"
      ]
     },
     "execution_count": 53,
     "metadata": {},
     "output_type": "execute_result"
    }
   ],
   "source": [
    "# User defined options\n",
    "\n",
    "original_data_filename = joinpath(@__DIR__, \"periodic_adjustment.jld2\")\n",
    "T_start = 0\n",
    "T_end = 5days\n",
    "\n",
    "arch = GPU()\n",
    "\n",
    "# Set the output period\n",
    "T_out = 1hour\n",
    "\n",
    "# Set filter order and cut-off frequency\n",
    "# Amplitude of frequency response of filter will be squared Butterworth order 2^N\n",
    "N = 2 \n",
    "freq_c = 1e-4/2\n",
    "\n",
    "# Define variables to filter\n",
    "original_var_names = (\"wc\",\"T\", \"b\")\n",
    "\n",
    "# Define velocities to use for filtering\n",
    "velocity_names = (\"u\",\"w\")\n",
    "\n",
    "# Set filtering parameters (this is for Butterworth-type, could define others here)\n",
    "filter_params = set_BW_filter_params(N=N,freq_c=freq_c)\n",
    "\n",
    "# Set the time step for the simulation\n",
    "Δt = 20minutes\n",
    "\n",
    "# Decide whether to solve for and output maps to generalised Lagrangian mean\n",
    "map_to_mean = true\n",
    "\n",
    "# Name output files\n",
    "forward_output_filename = joinpath(@__DIR__, \"forward_LF.jld2\")\n",
    "backward_output_filename = joinpath(@__DIR__, \"backward_LF.jld2\")\n",
    "combined_output_filename = joinpath(@__DIR__, \"combined_LF.jld2\")\n",
    "\n",
    "# Manipulate data on disk to have correct order \n",
    "T = set_data_on_disk!(original_data_filename, direction=\"forward\", T_start = T_start, T_end = T_end)"
   ]
  },
  {
   "cell_type": "code",
   "execution_count": 54,
   "id": "41b5c944",
   "metadata": {},
   "outputs": [
    {
     "name": "stdout",
     "output_type": "stream",
     "text": [
      "Loaded data from /home/lbaker/Documents/Projects/OceananigansLagrangianFilter/testing/geostrophic_adjustment/periodic_adjustment.jld2\n",
      "Created original variables: NamedTuple with 3 Fields on 300×1×80 RectilinearGrid{Float64, Periodic, Flat, Bounded} on CUDAGPU with 3×0×3 halo:\n",
      "├── T: 300×1×80 Field{Center, Center, Center} on RectilinearGrid on CUDAGPU\n",
      "├── b: 300×1×80 Field{Center, Center, Center} on RectilinearGrid on CUDAGPU\n",
      "└── wc: 300×1×80 Field{Center, Center, Center} on RectilinearGrid on CUDAGPU\n",
      "Created filtered variables: (:wcC1, :wcC2, :TC1, :TC2, :bC1, :bC2, :xi_u_C1, :xi_u_C2, :xi_w_C1, :xi_w_C2, :wcS1, :wcS2, :TS1, :TS2, :bS1, :bS2, :xi_u_S1, :xi_u_S2, :xi_w_S1, :xi_w_S2)\n",
      "Created forcing for filtered variables \n",
      "Created model\n",
      "Defined outputs\n",
      "Defined simulation\n"
     ]
    },
    {
     "name": "stderr",
     "output_type": "stream",
     "text": [
      "\u001b[36m\u001b[1m[ \u001b[22m\u001b[39m\u001b[36m\u001b[1mInfo: \u001b[22m\u001b[39mInitializing simulation...\n",
      "\u001b[36m\u001b[1m[ \u001b[22m\u001b[39m\u001b[36m\u001b[1mInfo: \u001b[22m\u001b[39mSimulation time: 0 seconds, max(|u|):0.00e+00 \n",
      "\u001b[36m\u001b[1m[ \u001b[22m\u001b[39m\u001b[36m\u001b[1mInfo: \u001b[22m\u001b[39m    ... simulation initialization complete (3.785 minutes)\n",
      "\u001b[36m\u001b[1m[ \u001b[22m\u001b[39m\u001b[36m\u001b[1mInfo: \u001b[22m\u001b[39mExecuting initial time step...\n",
      "\u001b[36m\u001b[1m[ \u001b[22m\u001b[39m\u001b[36m\u001b[1mInfo: \u001b[22m\u001b[39m    ... initial time step complete (19.344 seconds).\n",
      "\u001b[36m\u001b[1m[ \u001b[22m\u001b[39m\u001b[36m\u001b[1mInfo: \u001b[22m\u001b[39mSimulation time: 16.667 hours, max(|u|):1.06e-02 \n",
      "\u001b[36m\u001b[1m[ \u001b[22m\u001b[39m\u001b[36m\u001b[1mInfo: \u001b[22m\u001b[39mSimulation time: 1.389 days, max(|u|):1.91e-02 \n",
      "\u001b[36m\u001b[1m[ \u001b[22m\u001b[39m\u001b[36m\u001b[1mInfo: \u001b[22m\u001b[39mSimulation time: 2.083 days, max(|u|):2.50e-02 \n",
      "\u001b[36m\u001b[1m[ \u001b[22m\u001b[39m\u001b[36m\u001b[1mInfo: \u001b[22m\u001b[39mSimulation time: 2.778 days, max(|u|):2.82e-02 \n",
      "\u001b[36m\u001b[1m[ \u001b[22m\u001b[39m\u001b[36m\u001b[1mInfo: \u001b[22m\u001b[39mSimulation time: 3.472 days, max(|u|):2.97e-02 \n",
      "\u001b[36m\u001b[1m[ \u001b[22m\u001b[39m\u001b[36m\u001b[1mInfo: \u001b[22m\u001b[39mSimulation time: 4.167 days, max(|u|):2.86e-02 \n",
      "\u001b[36m\u001b[1m[ \u001b[22m\u001b[39m\u001b[36m\u001b[1mInfo: \u001b[22m\u001b[39mSimulation time: 4.861 days, max(|u|):2.42e-02 \n",
      "\u001b[36m\u001b[1m[ \u001b[22m\u001b[39m\u001b[36m\u001b[1mInfo: \u001b[22m\u001b[39mSimulation is stopping after running for 4.275 minutes.\n",
      "\u001b[36m\u001b[1m[ \u001b[22m\u001b[39m\u001b[36m\u001b[1mInfo: \u001b[22m\u001b[39mSimulation time 5 days equals or exceeds stop time 5 days.\n"
     ]
    }
   ],
   "source": [
    "# Load in saved data from simulation\n",
    "saved_velocities, saved_original_vars, grid = load_data(original_data_filename, original_var_names, velocity_names, architecture=arch, backend=InMemory(4))\n",
    "println(\"Loaded data from $original_data_filename\")\n",
    "\n",
    "# Create the original variables - these will be auxiliary fields in the model\n",
    "original_vars = create_original_vars(original_var_names, grid)\n",
    "println(\"Created original variables: \", original_vars)\n",
    "\n",
    "# Create the filtered variables - these will be tracers in the model\n",
    "filtered_vars = create_filtered_vars(original_var_names, velocity_names, filter_params, map_to_mean=map_to_mean)\n",
    "println(\"Created filtered variables: \", filtered_vars)\n",
    "\n",
    "# Create forcing for these filtered variables\n",
    "forcing = create_forcing(filtered_vars, original_var_names, velocity_names, filter_params)\n",
    "println(\"Created forcing for filtered variables \")\n",
    "\n",
    "# Define model \n",
    "model = LagrangianFilter(;grid, tracers = filtered_vars, auxiliary_fields = original_vars, forcing = forcing)\n",
    "println(\"Created model\")\n",
    "\n",
    "# Define our outputs # This seems to take a while\n",
    "filtered_outputs = create_output_fields(model, original_var_names, velocity_names, filter_params)\n",
    "println(\"Defined outputs\")\n",
    "\n",
    "# Define the filtering simulation \n",
    "simulation = Simulation(model, Δt = Δt, stop_time = T) \n",
    "println(\"Defined simulation\")\n",
    "\n",
    "# Tell the simulation to use the saved data\n",
    "simulation.callbacks[:update_input_data] = Callback(update_input_data!, parameters = (velocities = saved_velocities, original_vars = saved_original_vars))\n",
    "\n",
    "# Add a progress monitor\n",
    "function progress(sim)\n",
    "    @info @sprintf(\"Simulation time: %s, max(|u|):%.2e \\n\", \n",
    "                   prettytime(sim.model.clock.time), \n",
    "                   maximum(abs, model.velocities.u))             \n",
    "     return nothing\n",
    "end\n",
    "\n",
    "simulation.callbacks[:progress] = Callback(progress, IterationInterval(50))\n",
    "\n",
    "# Write outputs\n",
    "simulation.output_writers[:vars] = JLD2Writer(model, filtered_outputs,\n",
    "                                                        filename = forward_output_filename,\n",
    "                                                        schedule = TimeInterval(T_out),\n",
    "                                                        overwrite_existing = true)\n",
    "\n",
    "run!(simulation)"
   ]
  },
  {
   "cell_type": "code",
   "execution_count": 55,
   "id": "58d5ba3a",
   "metadata": {},
   "outputs": [
    {
     "name": "stdout",
     "output_type": "stream",
     "text": [
      "Current direction is forward\n",
      "Reversing order of data\n",
      "Reversed order of b\n",
      "Reversed order of and switched sign of u\n",
      "Reversed order of and switched sign of v\n",
      "Reversed order of and switched sign of w\n",
      "Reversed order of wc\n",
      "Reversed order of T\n",
      "Reversed order of t_simulation\n",
      "Reversed order of and shifted t\n",
      "New direction is backward\n"
     ]
    },
    {
     "name": "stderr",
     "output_type": "stream",
     "text": [
      "\u001b[36m\u001b[1m[ \u001b[22m\u001b[39m\u001b[36m\u001b[1mInfo: \u001b[22m\u001b[39mInitializing simulation...\n",
      "\u001b[36m\u001b[1m[ \u001b[22m\u001b[39m\u001b[36m\u001b[1mInfo: \u001b[22m\u001b[39mSimulation time: 0 seconds, max(|u|):2.56e-02 \n",
      "\u001b[36m\u001b[1m[ \u001b[22m\u001b[39m\u001b[36m\u001b[1mInfo: \u001b[22m\u001b[39m    ... simulation initialization complete (39.339 ms)\n",
      "\u001b[36m\u001b[1m[ \u001b[22m\u001b[39m\u001b[36m\u001b[1mInfo: \u001b[22m\u001b[39mExecuting initial time step...\n",
      "\u001b[36m\u001b[1m[ \u001b[22m\u001b[39m\u001b[36m\u001b[1mInfo: \u001b[22m\u001b[39m    ... initial time step complete (12.958 ms).\n",
      "\u001b[36m\u001b[1m[ \u001b[22m\u001b[39m\u001b[36m\u001b[1mInfo: \u001b[22m\u001b[39mSimulation time: 16.667 hours, max(|u|):1.89e-02 \n",
      "\u001b[36m\u001b[1m[ \u001b[22m\u001b[39m\u001b[36m\u001b[1mInfo: \u001b[22m\u001b[39mSimulation time: 1.389 days, max(|u|):1.06e-02 \n",
      "\u001b[36m\u001b[1m[ \u001b[22m\u001b[39m\u001b[36m\u001b[1mInfo: \u001b[22m\u001b[39mSimulation time: 2.083 days, max(|u|):6.39e-03 \n",
      "\u001b[36m\u001b[1m[ \u001b[22m\u001b[39m\u001b[36m\u001b[1mInfo: \u001b[22m\u001b[39mSimulation time: 2.778 days, max(|u|):1.12e-02 \n",
      "\u001b[36m\u001b[1m[ \u001b[22m\u001b[39m\u001b[36m\u001b[1mInfo: \u001b[22m\u001b[39mSimulation time: 3.472 days, max(|u|):1.73e-02 \n",
      "\u001b[36m\u001b[1m[ \u001b[22m\u001b[39m\u001b[36m\u001b[1mInfo: \u001b[22m\u001b[39mSimulation time: 4.167 days, max(|u|):2.40e-02 \n",
      "\u001b[36m\u001b[1m[ \u001b[22m\u001b[39m\u001b[36m\u001b[1mInfo: \u001b[22m\u001b[39mSimulation time: 4.861 days, max(|u|):2.84e-02 \n",
      "\u001b[36m\u001b[1m[ \u001b[22m\u001b[39m\u001b[36m\u001b[1mInfo: \u001b[22m\u001b[39mSimulation is stopping after running for 8.745 seconds.\n",
      "\u001b[36m\u001b[1m[ \u001b[22m\u001b[39m\u001b[36m\u001b[1mInfo: \u001b[22m\u001b[39mSimulation time 5 days equals or exceeds stop time 5 days.\n"
     ]
    }
   ],
   "source": [
    "\n",
    "# Now, run it backwards. Switch the data direction on disk\n",
    "T = set_data_on_disk!(original_data_filename, direction=\"backward\", T_start = T_start, T_end = T_end)\n",
    "\n",
    "# Reload the saved data \n",
    "saved_velocities, saved_original_vars, grid = load_data(original_data_filename, original_var_names, velocity_names, architecture=arch, backend=InMemory(4))\n",
    "\n",
    "# Reset the filtering simulation \n",
    "reset!(model.clock)\n",
    "\n",
    "# Write outputs\n",
    "simulation.output_writers[:vars] = JLD2Writer(model, filtered_outputs,\n",
    "                                                        filename = backward_output_filename,\n",
    "                                                        schedule = TimeInterval(T_out),\n",
    "                                                        overwrite_existing = true)\n",
    "\n",
    "# And run the backward simulation.\n",
    "run!(simulation)\n"
   ]
  },
  {
   "cell_type": "code",
   "execution_count": 56,
   "id": "4f528e9d",
   "metadata": {},
   "outputs": [
    {
     "name": "stdout",
     "output_type": "stream",
     "text": [
      "Combined forward and backward contributions into /home/lbaker/Documents/Projects/OceananigansLagrangianFilter/testing/geostrophic_adjustment/combined_LF.jld2\n"
     ]
    }
   ],
   "source": [
    "sum_forward_backward_contributions!(combined_output_filename, forward_output_filename, backward_output_filename, T, velocity_names, original_var_names)"
   ]
  },
  {
   "cell_type": "code",
   "execution_count": 49,
   "id": "a4c6f0d3",
   "metadata": {},
   "outputs": [
    {
     "name": "stderr",
     "output_type": "stream",
     "text": [
      "0.0%┣                                              ┫ 0/121 [00:00<00:00, -0s/it]\n",
      "0.8%┣▍                                         ┫ 1/121 [00:02<Inf:Inf, InfGs/it]\n",
      "1.7%┣▊                                              ┫ 2/121 [00:04<07:17, 4s/it]\n",
      "2.5%┣█▏                                             ┫ 3/121 [00:05<05:24, 3s/it]\n",
      "3.3%┣█▌                                             ┫ 4/121 [00:07<04:44, 2s/it]\n",
      "4.1%┣██                                             ┫ 5/121 [00:09<04:24, 2s/it]\n",
      "5.0%┣██▎                                            ┫ 6/121 [00:11<04:11, 2s/it]\n",
      "5.8%┣██▊                                            ┫ 7/121 [00:13<04:02, 2s/it]\n",
      "6.6%┣███                                            ┫ 8/121 [00:15<03:55, 2s/it]\n",
      "7.4%┣███▌                                           ┫ 9/121 [00:16<03:50, 2s/it]\n",
      "8.3%┣███▉                                          ┫ 10/121 [00:18<03:45, 2s/it]\n",
      "9.1%┣████▏                                         ┫ 11/121 [00:20<03:41, 2s/it]\n",
      "9.9%┣████▋                                         ┫ 12/121 [00:22<03:37, 2s/it]\n",
      "10.7%┣████▉                                        ┫ 13/121 [00:24<03:34, 2s/it]\n",
      "11.6%┣█████▏                                       ┫ 14/121 [00:26<03:35, 2s/it]\n",
      "12.4%┣█████▋                                       ┫ 15/121 [00:28<03:32, 2s/it]\n",
      "13.2%┣██████                                       ┫ 16/121 [00:30<03:29, 2s/it]\n",
      "14.0%┣██████▎                                      ┫ 17/121 [00:32<03:26, 2s/it]\n",
      "14.9%┣██████▊                                      ┫ 18/121 [00:34<03:23, 2s/it]\n",
      "15.7%┣███████                                      ┫ 19/121 [00:35<03:20, 2s/it]\n",
      "16.5%┣███████▍                                     ┫ 20/121 [00:37<03:18, 2s/it]\n",
      "17.4%┣███████▉                                     ┫ 21/121 [00:39<03:15, 2s/it]\n",
      "18.2%┣████████▏                                    ┫ 22/121 [00:41<03:13, 2s/it]\n",
      "19.0%┣████████▌                                    ┫ 23/121 [00:43<03:10, 2s/it]\n",
      "19.8%┣█████████                                    ┫ 24/121 [00:45<03:08, 2s/it]\n",
      "20.7%┣█████████▎                                   ┫ 25/121 [00:46<03:06, 2s/it]\n",
      "21.5%┣█████████▊                                   ┫ 26/121 [00:48<03:03, 2s/it]\n",
      "22.3%┣██████████                                   ┫ 27/121 [00:50<03:01, 2s/it]\n",
      "23.1%┣██████████▍                                  ┫ 28/121 [00:52<02:59, 2s/it]\n",
      "24.0%┣██████████▉                                  ┫ 29/121 [00:54<02:57, 2s/it]\n",
      "24.8%┣███████████▏                                 ┫ 30/121 [00:56<02:55, 2s/it]\n",
      "25.6%┣███████████▌                                 ┫ 31/121 [00:57<02:52, 2s/it]\n",
      "26.4%┣████████████                                 ┫ 32/121 [00:59<02:50, 2s/it]\n",
      "27.3%┣████████████▎                                ┫ 33/121 [01:01<02:48, 2s/it]\n",
      "28.1%┣████████████▋                                ┫ 34/121 [01:03<02:46, 2s/it]\n",
      "28.9%┣█████████████                                ┫ 35/121 [01:05<02:44, 2s/it]\n",
      "29.8%┣█████████████▍                               ┫ 36/121 [01:07<02:42, 2s/it]\n",
      "30.6%┣█████████████▊                               ┫ 37/121 [01:09<02:40, 2s/it]\n",
      "31.4%┣██████████████▏                              ┫ 38/121 [01:10<02:38, 2s/it]\n",
      "32.2%┣██████████████▌                              ┫ 39/121 [01:12<02:36, 2s/it]\n",
      "33.1%┣██████████████▉                              ┫ 40/121 [01:14<02:34, 2s/it]\n",
      "33.9%┣███████████████▎                             ┫ 41/121 [01:16<02:32, 2s/it]\n",
      "34.7%┣███████████████▋                             ┫ 42/121 [01:18<02:30, 2s/it]\n",
      "35.5%┣████████████████                             ┫ 43/121 [01:20<02:28, 2s/it]\n",
      "36.4%┣████████████████▍                            ┫ 44/121 [01:21<02:26, 2s/it]\n",
      "37.2%┣████████████████▊                            ┫ 45/121 [01:23<02:24, 2s/it]\n",
      "38.0%┣█████████████████                            ┫ 46/121 [01:25<02:22, 2s/it]\n",
      "38.8%┣█████████████████▌                           ┫ 47/121 [01:27<02:20, 2s/it]\n",
      "39.7%┣█████████████████▉                           ┫ 48/121 [01:29<02:18, 2s/it]\n",
      "40.5%┣██████████████████▎                          ┫ 49/121 [01:31<02:16, 2s/it]\n",
      "41.3%┣██████████████████▋                          ┫ 50/121 [01:32<02:14, 2s/it]\n",
      "42.1%┣███████████████████                          ┫ 51/121 [01:34<02:12, 2s/it]\n",
      "43.0%┣███████████████████▍                         ┫ 52/121 [01:36<02:10, 2s/it]\n",
      "43.8%┣███████████████████▊                         ┫ 53/121 [01:38<02:08, 2s/it]\n",
      "44.6%┣████████████████████                         ┫ 54/121 [01:40<02:06, 2s/it]\n",
      "45.5%┣████████████████████▌                        ┫ 55/121 [01:42<02:04, 2s/it]\n",
      "46.3%┣████████████████████▉                        ┫ 56/121 [01:43<02:02, 2s/it]\n",
      "47.1%┣█████████████████████▏                       ┫ 57/121 [01:45<02:00, 2s/it]\n",
      "47.9%┣█████████████████████▋                       ┫ 58/121 [01:47<01:58, 2s/it]\n",
      "48.8%┣██████████████████████                       ┫ 59/121 [01:49<01:56, 2s/it]\n",
      "49.6%┣██████████████████████▎                      ┫ 60/121 [01:51<01:54, 2s/it]\n",
      "50.4%┣██████████████████████▊                      ┫ 61/121 [01:53<01:53, 2s/it]\n",
      "51.2%┣███████████████████████                      ┫ 62/121 [01:55<01:51, 2s/it]\n",
      "52.1%┣███████████████████████▍                     ┫ 63/121 [01:57<01:49, 2s/it]\n",
      "52.9%┣███████████████████████▉                     ┫ 64/121 [01:59<01:47, 2s/it]\n",
      "53.7%┣████████████████████████▏                    ┫ 65/121 [02:00<01:45, 2s/it]\n",
      "54.5%┣████████████████████████▌                    ┫ 66/121 [02:02<01:43, 2s/it]\n",
      "55.4%┣█████████████████████████                    ┫ 67/121 [02:04<01:41, 2s/it]\n",
      "56.2%┣█████████████████████████▎                   ┫ 68/121 [02:06<01:40, 2s/it]\n",
      "57.0%┣█████████████████████████▋                   ┫ 69/121 [02:08<01:38, 2s/it]\n",
      "57.9%┣██████████████████████████                   ┫ 70/121 [02:10<01:36, 2s/it]\n",
      "58.7%┣██████████████████████████▍                  ┫ 71/121 [02:11<01:34, 2s/it]\n",
      "59.5%┣██████████████████████████▊                  ┫ 72/121 [02:13<01:32, 2s/it]\n",
      "60.3%┣███████████████████████████▏                 ┫ 73/121 [02:15<01:30, 2s/it]\n",
      "61.2%┣███████████████████████████▌                 ┫ 74/121 [02:17<01:28, 2s/it]\n",
      "62.0%┣████████████████████████████                 ┫ 75/121 [02:19<01:26, 2s/it]\n",
      "62.8%┣████████████████████████████▎                ┫ 76/121 [02:21<01:24, 2s/it]\n",
      "63.6%┣████████████████████████████▋                ┫ 77/121 [02:22<01:22, 2s/it]\n",
      "64.5%┣█████████████████████████████                ┫ 78/121 [02:24<01:21, 2s/it]\n",
      "65.3%┣█████████████████████████████▍               ┫ 79/121 [02:26<01:19, 2s/it]\n",
      "66.1%┣█████████████████████████████▊               ┫ 80/121 [02:28<01:17, 2s/it]\n",
      "66.9%┣██████████████████████████████▏              ┫ 81/121 [02:30<01:15, 2s/it]\n",
      "67.8%┣██████████████████████████████▌              ┫ 82/121 [02:32<01:13, 2s/it]\n",
      "68.6%┣██████████████████████████████▉              ┫ 83/121 [02:33<01:11, 2s/it]\n",
      "69.4%┣███████████████████████████████▎             ┫ 84/121 [02:35<01:09, 2s/it]\n",
      "70.2%┣███████████████████████████████▋             ┫ 85/121 [02:37<01:07, 2s/it]\n",
      "71.1%┣████████████████████████████████             ┫ 86/121 [02:39<01:05, 2s/it]\n",
      "71.9%┣████████████████████████████████▍            ┫ 87/121 [02:41<01:04, 2s/it]\n",
      "72.7%┣████████████████████████████████▊            ┫ 88/121 [02:43<01:02, 2s/it]\n",
      "73.6%┣█████████████████████████████████            ┫ 89/121 [02:44<01:00, 2s/it]\n",
      "74.4%┣█████████████████████████████████▌           ┫ 90/121 [02:46<00:58, 2s/it]\n",
      "75.2%┣█████████████████████████████████▉           ┫ 91/121 [02:48<00:56, 2s/it]\n",
      "76.0%┣██████████████████████████████████▏          ┫ 92/121 [02:50<00:54, 2s/it]\n",
      "76.9%┣██████████████████████████████████▋          ┫ 93/121 [02:52<00:52, 2s/it]\n",
      "77.7%┣███████████████████████████████████          ┫ 94/121 [02:54<00:50, 2s/it]\n",
      "78.5%┣███████████████████████████████████▎         ┫ 95/121 [02:55<00:49, 2s/it]\n",
      "79.3%┣███████████████████████████████████▊         ┫ 96/121 [02:57<00:47, 2s/it]\n",
      "80.2%┣████████████████████████████████████         ┫ 97/121 [02:59<00:45, 2s/it]\n",
      "81.0%┣████████████████████████████████████▌        ┫ 98/121 [03:01<00:43, 2s/it]\n",
      "81.8%┣████████████████████████████████████▉        ┫ 99/121 [03:03<00:41, 2s/it]\n",
      "82.6%┣████████████████████████████████████▍       ┫ 100/121 [03:05<00:39, 2s/it]\n",
      "83.5%┣████████████████████████████████████▊       ┫ 101/121 [03:06<00:37, 2s/it]\n",
      "84.3%┣█████████████████████████████████████       ┫ 102/121 [03:08<00:35, 2s/it]\n",
      "85.1%┣█████████████████████████████████████▌      ┫ 103/121 [03:10<00:34, 2s/it]\n",
      "86.0%┣█████████████████████████████████████▉      ┫ 104/121 [03:12<00:32, 2s/it]\n",
      "86.8%┣██████████████████████████████████████▏     ┫ 105/121 [03:14<00:30, 2s/it]\n",
      "87.6%┣██████████████████████████████████████▌     ┫ 106/121 [03:15<00:28, 2s/it]\n",
      "88.4%┣███████████████████████████████████████     ┫ 107/121 [03:17<00:26, 2s/it]\n",
      "89.3%┣███████████████████████████████████████▎    ┫ 108/121 [03:19<00:24, 2s/it]\n",
      "90.1%┣███████████████████████████████████████▋    ┫ 109/121 [03:21<00:22, 2s/it]\n",
      "90.9%┣████████████████████████████████████████    ┫ 110/121 [03:23<00:20, 2s/it]\n",
      "91.7%┣████████████████████████████████████████▍   ┫ 111/121 [03:25<00:19, 2s/it]\n",
      "92.6%┣████████████████████████████████████████▊   ┫ 112/121 [03:27<00:17, 2s/it]\n",
      "93.4%┣█████████████████████████████████████████   ┫ 113/121 [03:29<00:15, 2s/it]\n",
      "94.2%┣█████████████████████████████████████████▌  ┫ 114/121 [03:31<00:13, 2s/it]\n",
      "95.0%┣█████████████████████████████████████████▉  ┫ 115/121 [03:32<00:11, 2s/it]\n",
      "95.9%┣██████████████████████████████████████████▏ ┫ 116/121 [03:34<00:09, 2s/it]\n",
      "96.7%┣██████████████████████████████████████████▌ ┫ 117/121 [03:36<00:07, 2s/it]\n",
      "97.5%┣███████████████████████████████████████████ ┫ 118/121 [03:38<00:06, 2s/it]\n",
      "98.3%┣███████████████████████████████████████████▎┫ 119/121 [03:40<00:04, 2s/it]\n",
      "99.2%┣███████████████████████████████████████████▋┫ 120/121 [03:42<00:02, 2s/it]\n",
      "100.0%┣███████████████████████████████████████████┫ 121/121 [03:43<00:00, 2s/it]\n",
      "100.0%┣███████████████████████████████████████████┫ 121/121 [03:43<00:00, 2s/it]\n"
     ]
    }
   ],
   "source": [
    "# Next step is to interpolate onto the correct grid\n",
    "using GeoStats: Polynomial, NN, Kriging, GaussianVariogram\n",
    "using Oceananigans.BoundaryConditions: PeriodicBoundaryCondition\n",
    "using GeoStats: georef, InterpolateNeighbors, RegularGrid, IDW, Euclidean, LWR\n",
    "using JLD2: Group\n",
    "model = Kriging(GaussianVariogram(range=100))\n",
    "#model = Polynomial(5)\n",
    "data_array = regrid_to_mean_position!(combined_output_filename, original_var_names, velocity_names, model, 40,20)\n"
   ]
  },
  {
   "cell_type": "code",
   "execution_count": 57,
   "id": "e0e266c5",
   "metadata": {},
   "outputs": [
    {
     "data": {
      "text/plain": [
       "closed Dataset"
      ]
     },
     "execution_count": 57,
     "metadata": {},
     "output_type": "execute_result"
    }
   ],
   "source": [
    "jld2_to_netcdf(combined_output_filename, joinpath(@__DIR__, \"combined_output.nc\"))\n",
    "#jld2_to_netcdf(forward_output_filename, joinpath(@__DIR__, \"forward_output.nc\"))"
   ]
  },
  {
   "cell_type": "code",
   "execution_count": 51,
   "id": "60152f0e",
   "metadata": {},
   "outputs": [
    {
     "name": "stderr",
     "output_type": "stream",
     "text": [
      "\u001b[36m\u001b[1m[ \u001b[22m\u001b[39m\u001b[36m\u001b[1mInfo: \u001b[22m\u001b[39mMaking an animation\n"
     ]
    },
    {
     "data": {
      "text/plain": [
       "\"LF_movie_b_improved_interp.mp4\""
      ]
     },
     "execution_count": 51,
     "metadata": {},
     "output_type": "execute_result"
    }
   ],
   "source": [
    "# Animate\n",
    "timeseries1 = FieldTimeSeries(combined_output_filename, \"b\")\n",
    "timeseries2 = FieldTimeSeries(combined_output_filename, \"b_filtered\")\n",
    "timeseries3 = FieldTimeSeries(combined_output_filename, \"b_filtered_regrid\")\n",
    "\n",
    "timeseries4 = FieldTimeSeries(combined_output_filename, \"xi_u\")\n",
    "timeseries5 = FieldTimeSeries(combined_output_filename, \"xi_w\")\n",
    "timeseries6 = FieldTimeSeries(combined_output_filename, \"b_filtered_regrid\")\n",
    "\n",
    "times = timeseries1.times\n",
    "\n",
    "set_theme!(Theme(fontsize = 20))\n",
    "fig = Figure(size = (1000, 500))\n",
    "\n",
    "axis_kwargs = (xlabel = \"x\",\n",
    "               ylabel = \"z\",\n",
    "               aspect = AxisAspect(1))\n",
    "\n",
    "ax1 = Axis(fig[2, 1]; title = \"Raw \", axis_kwargs...)\n",
    "ax2 = Axis(fig[2, 2]; title = \"Filtered \", axis_kwargs...)\n",
    "ax3 = Axis(fig[2, 3]; title = \"Filtered regridded \", axis_kwargs...)\n",
    "\n",
    "\n",
    "n = Observable(1)\n",
    "\n",
    "\n",
    "var1 = @lift timeseries1[$n]\n",
    "var2 = @lift timeseries2[$n]\n",
    "var3 = @lift timeseries3[$n]\n",
    "\n",
    "var4 = @lift timeseries4[$n]\n",
    "var5 = @lift timeseries5[$n]\n",
    "var6 = @lift timeseries6[$n]\n",
    "\n",
    "vmin = -1e-4\n",
    "vmax = 1e-4\n",
    "heatmap!(ax1, var1; colormap = :balance, colorrange = (vmin, vmax))\n",
    "heatmap!(ax2, var2; colormap = :balance, colorrange = (vmin, vmax))\n",
    "heatmap!(ax3, var3; colormap = :balance, colorrange = (vmin, vmax))\n",
    "contour!(ax1, var1 ; levels=20, color=:black, linewidth=1)\n",
    "contour!(ax2, var2 ; levels=20, color=:black, linewidth=1)\n",
    "contour!(ax3, var3 ; levels=20, color=:black, linewidth=1)\n",
    "\n",
    "\n",
    "title = @lift \"t = \" * string(round(times[$n], digits=2))\n",
    "Label(fig[1, 1:3], title, fontsize=24, tellwidth=false)\n",
    "\n",
    "fig\n",
    "\n",
    "frames = 1:length(times)\n",
    "\n",
    "@info \"Making an animation\"\n",
    "\n",
    "CairoMakie.record(fig, \"LF_movie_b_improved_interp.mp4\", frames, framerate=24) do i\n",
    "    n[] = i\n",
    "end"
   ]
  },
  {
   "cell_type": "code",
   "execution_count": null,
   "id": "51adefbe",
   "metadata": {},
   "outputs": [],
   "source": [
    "scpy = pyimport(\"scipy\")\n",
    "scpy.interpolate.LinearNDInterpolator"
   ]
  }
 ],
 "metadata": {
  "kernelspec": {
   "display_name": "OceananigansLagrangianFilter 1.10.9",
   "language": "julia",
   "name": "oceananiganslagrangianfilter-1.10"
  },
  "language_info": {
   "file_extension": ".jl",
   "mimetype": "application/julia",
   "name": "julia",
   "version": "1.10.9"
  }
 },
 "nbformat": 4,
 "nbformat_minor": 5
}
